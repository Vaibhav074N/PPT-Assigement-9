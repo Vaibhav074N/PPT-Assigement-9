{
  "nbformat": 4,
  "nbformat_minor": 0,
  "metadata": {
    "colab": {
      "provenance": [],
      "authorship_tag": "ABX9TyNhiFshnjqZzGd2H4nq2DDs",
      "include_colab_link": true
    },
    "kernelspec": {
      "name": "python3",
      "display_name": "Python 3"
    },
    "language_info": {
      "name": "python"
    }
  },
  "cells": [
    {
      "cell_type": "markdown",
      "metadata": {
        "id": "view-in-github",
        "colab_type": "text"
      },
      "source": [
        "<a href=\"https://colab.research.google.com/github/Vaibhav074N/PPT-Assigement-9/blob/main/PPT_Assigement_9.ipynb\" target=\"_parent\"><img src=\"https://colab.research.google.com/assets/colab-badge.svg\" alt=\"Open In Colab\"/></a>"
      ]
    },
    {
      "cell_type": "markdown",
      "source": [
        "Given a 1-indexed array of integers numbers that are already sorted in non-decreasing order, find two numbers such that they add up to a specific target number. Let these two numbers be numbers[index1] and numbers[index2] where 1 <= index1 < index2 < numbers.length.\n",
        "Return the indices of the two numbers, index1, and index2, added by one as an integer array [index1, index2] of length 2.\n",
        "The tests are generated such that there is exactly one solution. You may not use the same element twice.\n",
        "Your solution must use only constant extra space.\n",
        "Input: numbers = [2,7,11,15], target = 9\n",
        "Output: [1,2]\n",
        "Explanation: The sum of 2 and 7 is 9. Therefore, index1 = 1, index2 = 2. We return [1, 2]."
      ],
      "metadata": {
        "id": "9YEHGw27h0Nm"
      }
    },
    {
      "cell_type": "code",
      "execution_count": 6,
      "metadata": {
        "id": "tlfLadJacnqc",
        "colab": {
          "base_uri": "https://localhost:8080/"
        },
        "outputId": "1a87d707-4c1d-46ac-8c38-f296649d889b"
      },
      "outputs": [
        {
          "output_type": "stream",
          "name": "stdout",
          "text": [
            "[0, 1]\n"
          ]
        }
      ],
      "source": [
        "def two(l,target):\n",
        "  n=len(l)\n",
        "  dict={}\n",
        "  for i in range(n):\n",
        "    com=target-l[i]\n",
        "    if com in dict:\n",
        "      return [dict[com],i]\n",
        "    else:\n",
        "      dict[l[i]]=i\n",
        "\n",
        "  return []\n",
        "\n",
        "l=[2,7,11,15]\n",
        "target = 9\n",
        "print(two(l,target))"
      ]
    },
    {
      "cell_type": "code",
      "source": [
        "def twoSum(numbers, target):\n",
        "    left, right = 0, len(numbers) - 1\n",
        "\n",
        "    while left < right:\n",
        "        sum_nums = numbers[left] + numbers[right]\n",
        "\n",
        "        if sum_nums == target:\n",
        "            return [left + 1, right + 1]  # Adding 1 to the indices as the output is 1-based\n",
        "\n",
        "        elif sum_nums < target:\n",
        "            left += 1\n",
        "\n",
        "        else:\n",
        "            right -= 1\n",
        "\n",
        "    return None\n",
        "\n",
        "numbers = [2, 7, 11, 15]\n",
        "target = 9\n",
        "output = twoSum(numbers, target)\n",
        "print(output)"
      ],
      "metadata": {
        "id": "Yeq3FvnmeNPt",
        "colab": {
          "base_uri": "https://localhost:8080/"
        },
        "outputId": "3949faf8-335c-4b2e-ef8d-49d902b81558"
      },
      "execution_count": 7,
      "outputs": [
        {
          "output_type": "stream",
          "name": "stdout",
          "text": [
            "[1, 2]\n"
          ]
        }
      ]
    },
    {
      "cell_type": "markdown",
      "source": [
        "Given an array of integer nums sorted in non-decreasing order, find the starting and ending position of a given target value.\n",
        "If the target is not found in the array, return [-1, -1].\n",
        "You must write an algorithm with O(log n) runtime complexity\n",
        "Input: nums = [5,7,7,8,8,10], target = 8\n",
        "Output: [3,4]\n"
      ],
      "metadata": {
        "id": "Cf7b6Sg0h3aA"
      }
    },
    {
      "cell_type": "code",
      "source": [
        "def indx(nums,target):\n",
        "  n=len(nums)\n",
        "  ans=[]\n",
        "  for i in range(n):\n",
        "    if nums[i] == target:\n",
        "      ans.append(i)\n",
        "    else:\n",
        "      i += 1\n",
        "\n",
        "  return ans\n",
        "\n",
        "nums = [5,7,7,8,8,10]\n",
        "target = 8\n",
        "print(indx(nums,target))"
      ],
      "metadata": {
        "id": "1VfNB9bph3AF",
        "colab": {
          "base_uri": "https://localhost:8080/"
        },
        "outputId": "387591e0-3576-4ea3-97cb-1b6f00dff9ab"
      },
      "execution_count": 15,
      "outputs": [
        {
          "output_type": "stream",
          "name": "stdout",
          "text": [
            "[3, 4]\n"
          ]
        }
      ]
    },
    {
      "cell_type": "code",
      "source": [
        "def searchRange(nums, target):\n",
        "    def binary_search_left(nums, target):\n",
        "        left, right = 0, len(nums) - 1\n",
        "        while left <= right:\n",
        "            mid = left + (right - left) // 2\n",
        "            if nums[mid] == target:\n",
        "                right = mid - 1\n",
        "            elif nums[mid] < target:\n",
        "                left = mid + 1\n",
        "            else:\n",
        "                right = mid - 1\n",
        "        return left\n",
        "\n",
        "    def binary_search_right(nums, target):\n",
        "        left, right = 0, len(nums) - 1\n",
        "        while left <= right:\n",
        "            mid = left + (right - left) // 2\n",
        "            if nums[mid] == target:\n",
        "                left = mid + 1\n",
        "            elif nums[mid] < target:\n",
        "                left = mid + 1\n",
        "            else:\n",
        "                right = mid - 1\n",
        "        return right\n",
        "\n",
        "    left_index = binary_search_left(nums, target)\n",
        "    right_index = binary_search_right(nums, target)\n",
        "\n",
        "    if left_index <= right_index:\n",
        "        return [left_index, right_index]\n",
        "    else:\n",
        "        return [-1, -1]\n",
        "\n",
        "nums = [5, 7, 7, 8, 8, 10]\n",
        "target = 8\n",
        "output = searchRange(nums, target)\n",
        "print(output)"
      ],
      "metadata": {
        "id": "Ncc1cYmbh28p",
        "colab": {
          "base_uri": "https://localhost:8080/"
        },
        "outputId": "bd4d8ace-e357-47aa-d6b7-c71f8ee69d80"
      },
      "execution_count": 14,
      "outputs": [
        {
          "output_type": "stream",
          "name": "stdout",
          "text": [
            "[3, 4]\n"
          ]
        }
      ]
    },
    {
      "cell_type": "markdown",
      "source": [
        "A peak element is an element that is strictly greater than its neighbors.\n",
        "Given a 0-indexed integer array nums, find a peak element, and return its index. If the array contains multiple peaks, return the index to any of the peaks.\n",
        "You may imagine that nums[-1] = nums[n] = -∞. In other words, an element is always considered to be strictly greater than a neighbor that is outside the array.\n",
        "You must write an algorithm that runs in O(log n) time.\n",
        "Input: nums = [1,2,3,1]\n",
        "Output: 2\n",
        "Explanation: 3 is a peak element and your function should return the index number 2."
      ],
      "metadata": {
        "id": "T7rfuZikh8G_"
      }
    },
    {
      "cell_type": "code",
      "source": [
        "def findPeakElement(nums):\n",
        "    left, right = 0, len(nums) - 1\n",
        "\n",
        "    while left < right:\n",
        "        mid = left + (right - left) // 2\n",
        "\n",
        "        if nums[mid] > nums[mid + 1]:\n",
        "            right = mid\n",
        "        else:\n",
        "            left = mid + 1\n",
        "\n",
        "    return left\n",
        "\n",
        "nums = [1, 2, 3, 1]\n",
        "output = findPeakElement(nums)\n",
        "print(output)"
      ],
      "metadata": {
        "id": "qlq55-BPh24f",
        "colab": {
          "base_uri": "https://localhost:8080/"
        },
        "outputId": "3985ae4e-c1fd-467a-e87f-1f4ad96d3d2f"
      },
      "execution_count": 16,
      "outputs": [
        {
          "output_type": "stream",
          "name": "stdout",
          "text": [
            "2\n"
          ]
        }
      ]
    },
    {
      "cell_type": "code",
      "source": [],
      "metadata": {
        "id": "wTmRMAVEh21U"
      },
      "execution_count": null,
      "outputs": []
    },
    {
      "cell_type": "markdown",
      "source": [
        "Given a sorted array of distinct integers and a target value, return the index if the target is found. If not, return the index where it would be if it were inserted in order.\n",
        "You must write an algorithm with O(log n) runtime complexity.\n",
        "Input: nums = [1,3,5,6], target = 5\n",
        "Output: 2\n",
        "\n",
        "Input: nums = [1,3,5,6], target = 7\n",
        "Output: 4"
      ],
      "metadata": {
        "id": "UGf7s0LuiAJy"
      }
    },
    {
      "cell_type": "code",
      "source": [
        "def inx(nums,t):\n",
        "  n=len(nums)\n",
        "  for i in range(n):\n",
        "      if nums[i] >= t:\n",
        "        return i\n",
        "  return n\n",
        "\n",
        "nums = [1, 3, 5, 6]\n",
        "t = 5\n",
        "output = inx(nums, t)\n",
        "print('Target 5 is on index:',output)\n",
        "\n",
        "t = 7\n",
        "output = inx(nums, t)\n",
        "print('Target 7 lies on index:',output)"
      ],
      "metadata": {
        "id": "Aj10TTLbh2x0",
        "colab": {
          "base_uri": "https://localhost:8080/"
        },
        "outputId": "0b03ad8c-cf91-4026-a9b5-baa3fdc51da0"
      },
      "execution_count": 30,
      "outputs": [
        {
          "output_type": "stream",
          "name": "stdout",
          "text": [
            "Target 5 is on index: 2\n",
            "Target 7 lies on index: 4\n"
          ]
        }
      ]
    },
    {
      "cell_type": "code",
      "source": [
        "def searchInsert(nums, target):\n",
        "    left, right = 0, len(nums) - 1\n",
        "\n",
        "    while left <= right:\n",
        "        mid = left + (right - left) // 2\n",
        "\n",
        "        if nums[mid] == target:\n",
        "            return mid\n",
        "        elif nums[mid] < target:\n",
        "            left = mid + 1\n",
        "        else:\n",
        "            right = mid - 1\n",
        "\n",
        "    return left\n",
        "\n",
        "nums = [1, 3, 5, 6]\n",
        "target = 5\n",
        "output = searchInsert(nums, target)\n",
        "print('Target 5 is on index:',output)\n",
        "\n",
        "target = 7\n",
        "output = searchInsert(nums, target)\n",
        "print('Target 7 lies on index:',output)"
      ],
      "metadata": {
        "id": "PK0_g85Lh2un",
        "colab": {
          "base_uri": "https://localhost:8080/"
        },
        "outputId": "e333933a-fc76-4c3c-d440-55efd3b9a7cd"
      },
      "execution_count": 22,
      "outputs": [
        {
          "output_type": "stream",
          "name": "stdout",
          "text": [
            "Target 5 is on index: 2\n",
            "Target 7 lies on index: 4\n"
          ]
        }
      ]
    },
    {
      "cell_type": "code",
      "source": [],
      "metadata": {
        "id": "pK9fEMy0sY0D"
      },
      "execution_count": null,
      "outputs": []
    },
    {
      "cell_type": "markdown",
      "source": [
        "Find the majority element in the array. A majority element in an array A[] of size n is an element that appears more than n/2 times (and hence there is at most one such element).\n",
        "Input: A[]={3, 3, 4, 2, 4, 4, 2, 4, 4}\n",
        "Output: 4\n",
        "Explanation: The frequency of 4 is 5 which is greater than half of the size of the array size."
      ],
      "metadata": {
        "id": "sn5lJQSkiD2D"
      }
    },
    {
      "cell_type": "code",
      "source": [
        "def find_majority_element(nums):\n",
        "    n = len(nums)\n",
        "    for num in nums:\n",
        "        count = 0\n",
        "        for element in nums:\n",
        "            if element == num:\n",
        "                count += 1\n",
        "        if count > n // 2:\n",
        "            return num\n",
        "    return None\n",
        "\n",
        "A = [3, 3, 4, 2, 4, 4, 2, 4, 4]\n",
        "output = find_majority_element(A)\n",
        "print(output)"
      ],
      "metadata": {
        "id": "DDoEvo1Oh2ro",
        "colab": {
          "base_uri": "https://localhost:8080/"
        },
        "outputId": "0ea2a62c-7d67-463a-d0f7-dbf89af5a593"
      },
      "execution_count": 64,
      "outputs": [
        {
          "output_type": "stream",
          "name": "stdout",
          "text": [
            "4\n"
          ]
        }
      ]
    },
    {
      "cell_type": "code",
      "source": [],
      "metadata": {
        "id": "c6YONXdeiGz8"
      },
      "execution_count": null,
      "outputs": []
    },
    {
      "cell_type": "markdown",
      "source": [
        "You are a product manager and currently leading a team to develop a new product. Unfortunately, the latest version of your product fails the quality check. Since each version is developed based on the previous version, all the versions after a bad version are also bad.\n",
        "Suppose you have n versions [1, 2, ..., n] and you want to find out the first bad one, which causes all the following ones to be bad.\n",
        "You are given an API bool isBadVersion(version) which returns whether the version is bad. Implement a function to find the first bad version. You should minimize the number of calls to the API.\n",
        "Input: n = 5, bad = 4\n",
        "Output: 4\n",
        "Explanation:\n",
        "call isBadVersion(3) -> false\n",
        "call isBadVersion(5) -> true\n",
        "call isBadVersion(4) -> true\n",
        "Then 4 is the first bad version."
      ],
      "metadata": {
        "id": "NPemzZQUiHaw"
      }
    },
    {
      "cell_type": "code",
      "source": [
        "def isBadVersion(version):\n",
        "    bad_versions = {4, 5}\n",
        "    return version in bad_versions\n",
        "\n",
        "def first_bad_version(n):\n",
        "    left = 1\n",
        "    right = n\n",
        "    while left < right:\n",
        "        mid = left + (right - left) // 2\n",
        "        if isBadVersion(mid):\n",
        "            right = mid\n",
        "        else:\n",
        "            left = mid + 1\n",
        "\n",
        "    return left\n",
        "\n",
        "n = 5\n",
        "output = first_bad_version(n)\n",
        "print(output)"
      ],
      "metadata": {
        "colab": {
          "base_uri": "https://localhost:8080/"
        },
        "id": "N46BpxkO7WrS",
        "outputId": "dcdb2a84-17f5-49d1-c988-dd545c65a616"
      },
      "execution_count": 89,
      "outputs": [
        {
          "output_type": "stream",
          "name": "stdout",
          "text": [
            "4\n"
          ]
        }
      ]
    },
    {
      "cell_type": "code",
      "source": [],
      "metadata": {
        "id": "g4zm0Sqa7szN"
      },
      "execution_count": null,
      "outputs": []
    },
    {
      "cell_type": "markdown",
      "source": [
        "Given an array of integers, find the inversion of an array. Formally, two elements a[i] and a[j] form an inversion if a[i] > a[j] and i < j.\n",
        "N=5, arr[] = {2, 4, 1, 3, 5}\n",
        "Output: 3\n",
        "Explanation: (2,1) (4,1) and (4,3) forms an inversion in an array"
      ],
      "metadata": {
        "id": "48C2wufniL-U"
      }
    },
    {
      "cell_type": "code",
      "source": [
        "def inv(arr):\n",
        "  n=len(arr)\n",
        "  ans=[]\n",
        "  for i in range(n):\n",
        "    for j in range(i+1,n):\n",
        "      if arr[i]>arr[j]:\n",
        "        ans.append((arr[i],arr[j]))\n",
        "\n",
        "  return ans\n",
        "\n",
        "arr = [2, 4, 1, 3, 5]\n",
        "print(inv(arr))"
      ],
      "metadata": {
        "id": "MhHh7BK1h2iZ",
        "colab": {
          "base_uri": "https://localhost:8080/"
        },
        "outputId": "ac38edf8-2da3-4df2-ddb8-8c34e47df0a2"
      },
      "execution_count": 69,
      "outputs": [
        {
          "output_type": "stream",
          "name": "stdout",
          "text": [
            "[(2, 1), (4, 1), (4, 3)]\n"
          ]
        }
      ]
    },
    {
      "cell_type": "code",
      "source": [],
      "metadata": {
        "id": "0SwaNJ4OiQ9M"
      },
      "execution_count": null,
      "outputs": []
    },
    {
      "cell_type": "markdown",
      "source": [
        "Given three arrays sorted in non-decreasing order, print all common elements in these arrays.\n",
        "ar1[] = {1, 5, 10, 20, 40, 80}\n",
        "ar2[] = {6, 7, 20, 80, 100}\n",
        "ar3[] = {3, 4, 15, 20, 30, 70, 80, 120}\n",
        "Output: 20, 80"
      ],
      "metadata": {
        "id": "6nWZh85QiRaJ"
      }
    },
    {
      "cell_type": "code",
      "source": [
        "def common(a1,a2,a3):\n",
        "  ans=[]\n",
        "  for i in a1:\n",
        "    for j in a2:\n",
        "      for k in a3:\n",
        "        if i==j==k:\n",
        "          ans.append(i)\n",
        "\n",
        "  return ans\n",
        "\n",
        "a1= [1, 5, 10, 20, 40, 80]\n",
        "a2 = [6, 7, 20, 80, 100]\n",
        "a3= [3, 4, 15, 20, 30, 70, 80, 120]\n",
        "print(common(a1,a2,a3))"
      ],
      "metadata": {
        "id": "1a-T1d0Ch2cx",
        "colab": {
          "base_uri": "https://localhost:8080/"
        },
        "outputId": "9387f5c4-54a3-47ce-9f73-32560e3f3ffc"
      },
      "execution_count": 82,
      "outputs": [
        {
          "output_type": "stream",
          "name": "stdout",
          "text": [
            "[20, 80]\n"
          ]
        }
      ]
    },
    {
      "cell_type": "code",
      "source": [
        "def find_common_elements(arr1, arr2, arr3):\n",
        "    common_elements = []\n",
        "    i, j, k = 0, 0, 0\n",
        "\n",
        "    while i < len(arr1) and j < len(arr2) and k < len(arr3):\n",
        "        if arr1[i] == arr2[j] == arr3[k]:\n",
        "            common_elements.append(arr1[i])\n",
        "            i += 1\n",
        "            j += 1\n",
        "            k += 1\n",
        "        elif arr1[i] < arr2[j]:\n",
        "            i += 1\n",
        "        elif arr2[j] < arr3[k]:\n",
        "            j += 1\n",
        "        else:\n",
        "            k += 1\n",
        "\n",
        "    return common_elements\n",
        "\n",
        "\n",
        "ar1 = [1, 5, 10, 20, 40, 80]\n",
        "ar2 = [6, 7, 20, 80, 100]\n",
        "ar3 = [3, 4, 15, 20, 30, 70, 80, 120]\n",
        "\n",
        "output = find_common_elements(ar1, ar2, ar3)\n",
        "print(output)"
      ],
      "metadata": {
        "colab": {
          "base_uri": "https://localhost:8080/"
        },
        "id": "8x5_m41E4dmY",
        "outputId": "10fd4798-36bc-4dbc-b1a0-efa59befb1c2"
      },
      "execution_count": 83,
      "outputs": [
        {
          "output_type": "stream",
          "name": "stdout",
          "text": [
            "[20, 80]\n"
          ]
        }
      ]
    },
    {
      "cell_type": "code",
      "source": [],
      "metadata": {
        "id": "HpDWjWZC6HXi"
      },
      "execution_count": null,
      "outputs": []
    }
  ]
}